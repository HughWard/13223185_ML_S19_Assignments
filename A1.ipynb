{
  "nbformat": 4,
  "nbformat_minor": 0,
  "metadata": {
    "colab": {
      "name": "A1.ipynb",
      "version": "0.3.2",
      "provenance": [],
      "include_colab_link": true
    },
    "kernelspec": {
      "name": "python3",
      "display_name": "Python 3"
    }
  },
  "cells": [
    {
      "cell_type": "markdown",
      "metadata": {
        "id": "view-in-github",
        "colab_type": "text"
      },
      "source": [
        "<a href=\"https://colab.research.google.com/github/HughWard/UTS_ML2019SPR_ID13223185/blob/master/A1.ipynb\" target=\"_parent\"><img src=\"https://colab.research.google.com/assets/colab-badge.svg\" alt=\"Open In Colab\"/></a>"
      ]
    },
    {
      "cell_type": "code",
      "metadata": {
        "id": "cbT5Ge82FIyl",
        "colab_type": "code",
        "colab": {}
      },
      "source": [
        ""
      ],
      "execution_count": 0,
      "outputs": []
    },
    {
      "cell_type": "markdown",
      "metadata": {
        "id": "wAhB-y8bFJdh",
        "colab_type": "text"
      },
      "source": [
        "# **Review Report on \"Eigenfaces vs. Fisherfaces: Recognition Using Class Specific Linear Projection\"**"
      ]
    },
    {
      "cell_type": "markdown",
      "metadata": {
        "id": "kA-gIxM5FUSo",
        "colab_type": "text"
      },
      "source": [
        "## **Introduction**\n",
        "\n",
        "The following report will explore the contributions of the chosen paper to developing effective facial recognition algorithms. This review will also critique how innovative the ideas contained in the paper were to the field of facial recognition, how effectively the authors conveyed the process and findings of their research as well as the quality of the supporting technical methods and examples."
      ]
    },
    {
      "cell_type": "markdown",
      "metadata": {
        "id": "XYFmFsZ8FZ3w",
        "colab_type": "text"
      },
      "source": [
        "## **Content**\n",
        "\n",
        "Belhumeur, Hespanha and Kriegman explore facial recognition algorithms, particularly searching for the optimal algorithm which can reliably classify faces even despite varying degrees of disparity in the direction and intensity of lighting, as well as facial expressions. The paper mainly compares two techniques, Fisher’s Linear Discriminant and the Eiganface technique, which are both based on image projection into lower dimensional subspaces. \n",
        "The conclusion of this study is to compare and find the most accurate of these two linear projection techniques when classifying the images of faces from the Harvard and Yale Face databases.\n"
      ]
    },
    {
      "cell_type": "markdown",
      "metadata": {
        "id": "60tTN9cWFfFQ",
        "colab_type": "text"
      },
      "source": [
        "## **Innovation**\n",
        "\n",
        "At the time of publication, the current methodologies of facial recognition algorithms including primitive correlation classification utilising nearest neighbour classification, the Eigenface method which capitalises on reductive linear projection to amplify the scatter of the test images and lastly Linear Subspace recognition which excels at classification without error due to variation of light source intensity and direction by considering Lambertian surface theory.\n",
        "Each of the stated methods have several debilitating characteristics which affect their versatility, accuracy and required computational power and storage. The Fisherface algorithm succeeds where the other methods are privy to fail by maximising the between-class scatter over the within-class scatter through Fisher’s Linear Discriminant, a class specific method for projection into reduced dimensions. In the two-class example given in section 2.4 and figure 2, FLD simplifies image classification by making separate classes of images linearly separable in a one-dimensional feature space, whereas Principal Component Analysis (PCA) integrates the two classes into an inseparable one-dimensional projection.\n",
        "The results from the experiments classifying the data from Harvard and Yale demonstrate how the Fisherface method performs significantly better than every other method in both accuracy and required computational resources, with varying light source conditions and facial expressions. By combining the successful ideologies from the other methods, the authors were successful in creating a method that has the accuracy of the Linear Subspace method with the resource efficiency of the Eigenface method.\n"
      ]
    },
    {
      "cell_type": "markdown",
      "metadata": {
        "id": "rLgF33IkFnkg",
        "colab_type": "text"
      },
      "source": [
        "## **Technical quality**\n",
        "\n",
        "The authors go into significant depth with backing up their theory by performing standardised experiments. \n",
        "There are still weaknesses of all the discussed methods, including Fisherface, exposed through the fact that extreme lighting conditions and shadows degrades the classification ability substantially. As concluded by the paper, research and experimentation with image samples containing different backgrounds, hairstyles and extreme shadowing is still necessary for establishing a truly versatile and accurate facial recognition technique.\n"
      ]
    },
    {
      "cell_type": "markdown",
      "metadata": {
        "id": "IyFMr5MNFv7h",
        "colab_type": "text"
      },
      "source": [
        "## **Application and X-factor**\n",
        "\n",
        "I find the proposal in the paper promising. ..."
      ]
    },
    {
      "cell_type": "markdown",
      "metadata": {
        "id": "euheoUq4F2Vg",
        "colab_type": "text"
      },
      "source": [
        "## **Presentation**"
      ]
    },
    {
      "cell_type": "markdown",
      "metadata": {
        "id": "dlYXqPgZF5Kp",
        "colab_type": "text"
      },
      "source": [
        "## **References**\n",
        "\n",
        "SHA48: Author, Title, Info"
      ]
    }
  ]
}