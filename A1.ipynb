{
  "nbformat": 4,
  "nbformat_minor": 0,
  "metadata": {
    "colab": {
      "name": "A1.ipynb",
      "version": "0.3.2",
      "provenance": [],
      "include_colab_link": true
    },
    "kernelspec": {
      "name": "python3",
      "display_name": "Python 3"
    }
  },
  "cells": [
    {
      "cell_type": "markdown",
      "metadata": {
        "id": "view-in-github",
        "colab_type": "text"
      },
      "source": [
        "<a href=\"https://colab.research.google.com/github/HughWard/UTS_ML2019SPR_ID13223185/blob/master/A1.ipynb\" target=\"_parent\"><img src=\"https://colab.research.google.com/assets/colab-badge.svg\" alt=\"Open In Colab\"/></a>"
      ]
    },
    {
      "cell_type": "code",
      "metadata": {
        "id": "cbT5Ge82FIyl",
        "colab_type": "code",
        "colab": {}
      },
      "source": [
        ""
      ],
      "execution_count": 0,
      "outputs": []
    },
    {
      "cell_type": "markdown",
      "metadata": {
        "id": "wAhB-y8bFJdh",
        "colab_type": "text"
      },
      "source": [
        "# **Review Report on \"Eigenfaces vs. Fisherfaces: Recognition Using Class Specific Linear Projection\"**"
      ]
    },
    {
      "cell_type": "markdown",
      "metadata": {
        "id": "kA-gIxM5FUSo",
        "colab_type": "text"
      },
      "source": [
        "## **Introduction**\n",
        "\n",
        "The following report will explore the contributions of the chosen paper to understanding, comparing and developing effective facial recognition algorithms. This review will also critique how innovative the ideas contained in the paper were to the field of facial recognition relative to the period of time it was published, how effectively the authors conveyed the process and findings of their research as well as the quality of the supporting technical methods and examples."
      ]
    },
    {
      "cell_type": "markdown",
      "metadata": {
        "id": "XYFmFsZ8FZ3w",
        "colab_type": "text"
      },
      "source": [
        "## **Content**\n",
        "\n",
        "Belhumeur, Hespanha and Kriegman begin by providing a brief overview of the state of facial recognition algorithms in the prior years leading up to the paper. They recognise the significant advancement of recognising faces under ideal conditions, however the algorithms tended to have significantly reduced effectiveness whilst variation in lighting, facial expression and the angle of how the photo was taken. It is noted that “the variations between the images of the same face due to illumination and viewing direction are almost always larger than image variations due to change in face identity” (Moses et al. 1994) and in order for facial recognition to be used practically this hurdle must first be overcome. This solution to this problem is then introduced, by reducing the dimensionality of the data space the impact of the unpredictable variability across different images can be minimised. One such method of projecting data into a lower dimensional feature space is the Eigenface method, which utilises Principle Components Analysis and results in a feature space that prioritises the total class scatter. This is undesirable for image recognition as we want to prioritise the distance between different classes, more easily classifying an image to the correct class.  \n",
        "\n",
        "The paper compares four techniques concerning pattern classification, correlation of images by normalising all of the data and then performing a nearest neighbour classification, the Eigenfaces technique of performing Principal Components Analysis finding the characteristic vectors containing the most information and discarding the rest, the linear subspace method using knowledge of Lambertian surfaces to compute the distance of an unknown face to the closest 3D linear subspace and finally the proposed Fisherface method which utilises Fisher’s Linear Discriminant to project image data into a smaller dimension maximising the between-class variance.\n",
        "\n",
        "The explanation of the methodologies is followed by the results of experimentation in conditions of varying lighting and facial expression (additionally the recognition of a face with and without glasses). The conclusion from the experiments was that the top performing techniques for variation in lighting were Fisherfaces and Linear Subspaces, with Fisherfaces being more desirable for being less computationally expensive, and in regard to variation in facial expression, Fisherfaces was decisively the best image recognition technique."
      ]
    },
    {
      "cell_type": "markdown",
      "metadata": {
        "id": "60tTN9cWFfFQ",
        "colab_type": "text"
      },
      "source": [
        "## **Innovation**\n",
        "\n",
        "At the time of publication, the methodologies of facial recognition lacked versatility in dealing with different lighting conditions and facial expressions. Correlation classification utilising nearest neighbour classification suffered dramatically from light variation, the Eigenface method succeeded in reducing the dimensionality of the data but retained unwanted variance and lastly Linear Subspace recognition which excelled at classification despite extreme light conditions but failed to effectively classify images with differing facial expressions.\n",
        "\n",
        "Each of the stated methods have several debilitating characteristics which affect their versatility, accuracy and required computational power and storage. The Fisherface algorithm succeeded where the other methods were privy to fail by maximising the between-class scatter over the within-class scatter through Fisher’s Linear Discriminant, a class specific method for projection into reduced dimensions. In the two-class example given in section 2.4 and figure 2, FLD simplifies image classification by making separate classes of images linearly separable in a one-dimensional feature space, whereas Principal Component Analysis (PCA) integrates the two classes into an inseparable one-dimensional projection.\n",
        "\n",
        "The results from the experiments classifying the data from Harvard and Yale demonstrate how the Fisherface method performs significantly better than every other method in both accuracy and required computational resources, with varying light source conditions and facial expressions. By combining the strengths of the other methods, the authors were successful in creating a method that retains accuracy despite high variance and without compromising computational resources.\n"
      ]
    },
    {
      "cell_type": "markdown",
      "metadata": {
        "id": "rLgF33IkFnkg",
        "colab_type": "text"
      },
      "source": [
        "## **Technical quality**\n",
        "\n",
        "In terms of the technical explanations given in the paper, each algorithm was explained thoroughly and provided necessary mathematical definitions and equations where required. Due to my inexperience in pattern recognition and lack of understanding of some mathematical terminology, there were several terms and formulae that I had to research the meaning and definitions for but for the intended audience of the publication I have to assume the authors provided sufficient depth to their explanations.\n",
        "\n",
        "The authors go into significant depth with backing up their theory and proposed algorithm by performing standardised experiments. The experiment methods and the data used for the experiments displayed integrity and the results provide meaningful and unbiased conclusions. The conclusion section doesn’t ignore the limitations and new questions that arose from the results which demonstrates good scientific practice.  As concluded by the paper, research and experimentation with image samples containing different backgrounds, hairstyles, angles and degrees of shadowing is still necessary for establishing a truly versatile and accurate facial recognition technique.\n"
      ]
    },
    {
      "cell_type": "markdown",
      "metadata": {
        "id": "IyFMr5MNFv7h",
        "colab_type": "text"
      },
      "source": [
        "## **Application and X-factor**\n",
        "\n",
        "The step forward in facial recognition techniques brought by Fisherfaces was a very innovative conglomeration of existing knowledge both combining the strengths of and eliminating weaknesses of previous methods. The open-ended questions and investigations opened by this paper, such as the discussion after the explanation of the Fisherfaces technique of finding ways of minimising within-class scatter and preserving between-class scatter, gives this paper the feeling of cutting-edge development.\n",
        "\n",
        "The staggering success rate of the tests using Fisherfaces with the Harvard and Yale image databases showed that the new technique solved the initial problem of classifying images containing extreme conditions of variation. Meeting the desired end-point in such a fashion was very impressive.\n"
      ]
    },
    {
      "cell_type": "markdown",
      "metadata": {
        "id": "euheoUq4F2Vg",
        "colab_type": "text"
      },
      "source": [
        "## **Presentation**\n",
        "\n",
        "The paper was concise and well-formatted making it easy to read and understand. The inclusion of example images, equations and graphs complements the content of the paper nicely and allows the reader to visually engage with the technical explanations. The document follows the steps of research, development and experimentation, which provides a comprehensive understanding for the reader of why the research was necessary, what the development process for their algorithm was and how well their algorithm performed when in action."
      ]
    },
    {
      "cell_type": "markdown",
      "metadata": {
        "id": "dlYXqPgZF5Kp",
        "colab_type": "text"
      },
      "source": [
        "## **References**\n",
        "\n",
        "Belhumeur, P.N., Hespanha, J.P. and Kriegman, D.J., 1997. Eigenfaces vs. fisherfaces: Recognition using class specific linear projection. IEEE Transactions on Pattern Analysis & Machine Intelligence, (7), pp.711-720. \n",
        "\n",
        "Y. Moses, Y. Adini, and S. Ullman, “Face Recognition: The Problem of Compensating for Changes in Illumination Direction,” European Conf. Computer Vision, 1994, pp. 286-296\n",
        "\n",
        "Eiganface technique explanation https://towardsdatascience.com/eigenfaces-recovering-humans-from-ghosts-17606c328184\n",
        "\n",
        "PCA explanation https://towardsdatascience.com/a-step-by-step-explanation-of-principal-component-analysis-b836fb9c97e2\n",
        "\n",
        "Standardisation and normalisation explanation https://towardsdatascience.com/when-to-standardize-your-data-in-4-minutes-f9282190707e\n",
        "\n",
        "FLD information https://sthalles.github.io/fisher-linear-discriminant/\n"
      ]
    }
  ]
}